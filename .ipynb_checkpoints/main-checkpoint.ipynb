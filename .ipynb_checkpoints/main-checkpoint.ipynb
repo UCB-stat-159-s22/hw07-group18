{
 "cells": [
  {
   "cell_type": "markdown",
   "id": "a7c1ad50-bed3-4b97-9ba4-43c4bb8e62d2",
   "metadata": {},
   "source": [
    "# Metro Interstate Traffic Volume Report"
   ]
  },
  {
   "cell_type": "markdown",
   "id": "5af2a065-e031-4164-a5d0-875b9ceb629b",
   "metadata": {},
   "source": [
    "## Introduction"
   ]
  },
  {
   "cell_type": "markdown",
   "id": "ab14a9d0-28d8-4867-b30f-b08c03b539aa",
   "metadata": {},
   "source": [
    "Metro interstate traffic volume is the hourly traffic volume of metropolitan interstate. For this specific dataset, we are studying the hourly Minneapolis-St Paul, MN traffic volume for westbound I-94 from 2012-10-02 to 2018-9-30. We explore th traffic data for Minneapolis-St Paul and try to explore relationships between temperature, weather conditions, date and time information on Mineeapolis interstate traffic and predict traffic volume given these weather conditions. We therefore build a linear model that examines how the above variables are correlated to traffic volume."
   ]
  },
  {
   "cell_type": "markdown",
   "id": "21be4933-735c-4b9c-a0d7-f6b2ffe13b47",
   "metadata": {},
   "source": [
    "## Data Information"
   ]
  },
  {
   "cell_type": "markdown",
   "id": "fda7b407-6764-4a7c-bdc5-7dcacad9f5de",
   "metadata": {},
   "source": [
    "Abstract: Hourly Minneapolis-St Paul, MN traffic volume for westbound I-94. Includes weather and holiday features from 2012-2018.\n",
    "\n",
    "1. holiday Categorical US National holidays plus regional holiday, Minnesota State Fair\n",
    "2. temp Numeric Average temp in kelvin\n",
    "3. rain_1h Numeric Amount in mm of rain that occurred in the hour\n",
    "4. snow_1h Numeric Amount in mm of snow that occurred in the hour\n",
    "5. clouds_all Numeric Percentage of cloud cover\n",
    "6. weather_main Categorical Short textual description of the current weather\n",
    "7. weather_description Categorical Longer textual description of the current weather\n",
    "8. date_time DateTime Hour of the data collected in local CST time\n",
    "9. traffic_volume Numeric Hourly I-94 ATR 301 reported westbound traffic volume"
   ]
  },
  {
   "cell_type": "markdown",
   "id": "d594a041-17a8-49a9-8934-9bea68c828db",
   "metadata": {},
   "source": [
    "## Data Preprocessing"
   ]
  },
  {
   "cell_type": "markdown",
   "id": "f50c0d2b-3c75-40fb-b1ef-05393dd44b9d",
   "metadata": {},
   "source": [
    "Before doing EDA or further data anlysis, it is important to explore and perform data cleaning to check for any irregularities in the dataset and to see if any additional columns are needed. Our original data contains 9 columns and 48,204 rows. Specifically, the explanatory variables are holiday, temperature, amount of rain per hour, amount of snow per hour, coverage of clounds, type of weather, description of weather, and date time. The last column is the response variable traffic_volume.\n",
    "\n",
    "Upon observing the original data frame, we think it is helpful to extract new columns froms the `date_time` variable to better aid the analysis process. Thus, the `date`, `month`, and `hour` variables are created because these might be important factors that correlates to the traffic volume change.\n",
    "\n",
    "Weekday vs weekend affects traffic volume because each day of week may have different patterns. Therefore, categorical variable `weekday` is added to our dataset, another variable `is_weekend` is added with weekdays encoded as False and weekends encoded as True.\n",
    "\n",
    "We observe that there is one outlier for the `rain_1h` which has a value of over 8000. We drop the irregular observation because it is clearly a mistake. On the other hand, for most observations, the amount of rain is 0 since there is no rain for most of the times. To better train our data, we transform the numerical variable of `rain_1h` to catagorical variables `rain_level` describing the level of rain.\n",
    "\n",
    "![rain](figures/rain_1h.png)\n",
    "\n",
    "Similary, `snow_1h` is divided into 3 categories as the new column `snow_level`, with no snow, small snow, and big snow. \n",
    "\n",
    "The `temperature` variable in the original data uses the unit of kelvin. To better interpret the variable, we transform the unit to celsius. There are also outliers for the temperature which is also clearly mistakes, so we remove them.\n",
    "\n",
    "![temp](figures/temp.png)\n",
    "\n",
    "For the `holiday` variable, there are many of them in the original dataset, which includes christmas, new year's day, etc, but only holiday vs non-holiday should be useful. Therefore, this column is transformed into True or False.\n"
   ]
  },
  {
   "cell_type": "markdown",
   "id": "696f1488-4b56-45d4-8226-177652aec6d5",
   "metadata": {},
   "source": [
    "## Explanatory Data Analysis"
   ]
  },
  {
   "cell_type": "markdown",
   "id": "7eaff1b3-5d05-4836-a9bc-06f8180e466b",
   "metadata": {},
   "source": [
    "Before building any models, we need to perform data visualizations to see how the variables relate to each other.  We first visualize the distribution of the response variable traffic_volume to check for distribution. As shown in figure, the distributions are not normal, with many spikes.\n",
    "\n",
    "![traffic_volume](figures/traffic_volume_hist.png)\n",
    "\n",
    "Then, we perform exploratory data analysis for the explanatory variables to visualize high-level data characteristics. We use box plots because they are useful to see the correlation between each subgroup of categorical to the traffic volume. \n",
    "\n",
    "We observe that there is significant less traffic volume over weekends (5 = Saturday and 6 = Sunday). \n",
    "\n",
    "![weekday](figures/weekday_box.png)\n",
    "\n",
    "Thus, we compare the difference in traffic volume for only weekday vs weekend. Weekday shows significant more traffic volume than weekend. This makes sense because people commute a lot more during weekdays to go to work.\n",
    "\n",
    "![is_weekend](figures/is_weekend_box.png)\n",
    "\n",
    "There are no apparent difference in traffic volume across months.\n",
    "\n",
    "![month](figures/month_box.png)\n",
    "\n",
    "Box plots for snow_level and rain_level are also examined. For snow, people's tend to travel more during big snow days, which is not very reasonable in this case. \n",
    "\n",
    "![snow](figures/snow_level_box.png)\n",
    "\n",
    "For rain levels, it is reasonable that people might choose to walk so traffic volume is not the greatest. However, as rain level starts to increase, traffic volume gradually decreases since people are not willing to travel in rainy days. \n",
    "\n",
    "![rain](figures/rain_level_box.png)\n",
    "\n",
    "\n",
    "\n"
   ]
  },
  {
   "cell_type": "markdown",
   "id": "69777107-8cb2-4fa1-b4d4-2e54a49de843",
   "metadata": {},
   "source": [
    "### Research Question\n",
    "\n",
    "Does different environmental variables (such as snow, rain, cloud, temperature, holiday, and weekend) impacts the level of traffic overall?"
   ]
  },
  {
   "cell_type": "markdown",
   "id": "5275e9ad-3b56-4459-a6c6-7ff0b133f370",
   "metadata": {},
   "source": [
    "### Analysis and Interpretation of the Model\n",
    "\n",
    "According to our Fit OLS Regression Model that we have built based on our variables, we tried to find a correlation between the level of Traffic and different variables that may influence the level of traffic. According to the summary of our model, we were able to find that there is overall positive correlation between the level of traffic and different environmental variables (snow, cloud, rain, temperature, holiday, weekend) in combined. For some of the unexpected discoveries we had, the most unexpected finding wasthe statistic significance on the snow level. Initially, we assumed that high level of snow would decrease the amount of traffic, but the result we discovered was very different from our expectation. The p-value for this factor came out to be 0.684, which was higher than 0.05. This also signifies that the snow does not have strong correlation on traffic level. For other coefficients on our variables, they were reasonably expected at the beginning of our hypothesis test as we expected that higher rain and snow would decrease the level of traffic. We expected a negative correlation because due to the danger of driving under restraint atmospheric conditions from snow and rain (which could hinder vision and increase chance of accident by less surface friction on the road), we expected less people to drive on those days. Similarly, we expected negative correlation between the traffic level and other variables, such as weekend and holiday, as less people would be driving to commute to work or they would more likely to stay at home. Other surprising foundings we had were correlation between cloud level/Temperature and traffic level as the coefficients were positive, but exceptionally smaller compared to other variables that had positive coefficients. This demonstrates that there are some possitive correlation between these factors, but weaker correlation compared to holiday, rain, snow, and weekend variables. "
   ]
  },
  {
   "cell_type": "markdown",
   "id": "7ae79326-d8ec-4502-8743-60e6d11b9f08",
   "metadata": {},
   "source": [
    "### Conclusion\n",
    "\n",
    "Given the interpretation between overall environmental factors and the traffic level, we are confident to say there are overall positive correlation between the combined environmental factors on the level of traffic overall, which can be found from the positive constant coefficient. There were some unexpected discoveries made  on the relationship between the level of traffic and snowiness of the weather, we found strongest correlation between the holiday variable and our target variable (Level of Traffic). Overall, the p-values for most of our variables were statistically significant, except the level of snow, ultimately supporting our hypothesis. "
   ]
  },
  {
   "cell_type": "code",
   "execution_count": null,
   "id": "d7dddae9-7902-4097-9c45-76a298cda693",
   "metadata": {},
   "outputs": [],
   "source": []
  }
 ],
 "metadata": {
  "kernelspec": {
   "display_name": "Python 3 (ipykernel)",
   "language": "python",
   "name": "python3"
  },
  "language_info": {
   "codemirror_mode": {
    "name": "ipython",
    "version": 3
   },
   "file_extension": ".py",
   "mimetype": "text/x-python",
   "name": "python",
   "nbconvert_exporter": "python",
   "pygments_lexer": "ipython3",
   "version": "3.9.9"
  }
 },
 "nbformat": 4,
 "nbformat_minor": 5
}
