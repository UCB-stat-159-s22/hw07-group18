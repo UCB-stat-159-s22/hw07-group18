{
 "cells": [
  {
   "cell_type": "markdown",
   "id": "6b97fbe4-c132-452b-8298-11a705f8f6d3",
   "metadata": {},
   "source": [
    "# Metro Interstate Traffic Volume Analysis Notebook"
   ]
  },
  {
   "cell_type": "markdown",
   "id": "03d85079-8627-4023-9d9b-ba2c884b933f",
   "metadata": {},
   "source": [
    "## Data Importation"
   ]
  },
  {
   "cell_type": "code",
   "execution_count": 5,
   "id": "954f7cf3-b1d4-446f-9a19-0105b6786de5",
   "metadata": {},
   "outputs": [
    {
     "name": "stdout",
     "output_type": "stream",
     "text": [
      "Analysis.ipynb\tenvironment.yml      LICENSE\t Makefile   _toc.yml\n",
      "_config.yml\tfigures\t\t     logo.png\t models     traffic_tools\n",
      "data\t\thw07-description.md  main.ipynb  README.md\n"
     ]
    }
   ],
   "source": [
    "!ls"
   ]
  },
  {
   "cell_type": "code",
   "execution_count": 1,
   "id": "8a07658f-f88f-4ba9-a410-1ab88b7c58ab",
   "metadata": {},
   "outputs": [],
   "source": [
    "# Libraries\n",
    "import pandas as pd\n",
    "import numpy as np\n",
    "import statsmodels.api as sm\n",
    "import matplotlib.pyplot as plt\n",
    "import seaborn as sns\n",
    "import os\n",
    "from traffic_tools import utils"
   ]
  },
  {
   "cell_type": "code",
   "execution_count": 2,
   "id": "d4c89293-0115-44d6-bf7e-4c0461f532f3",
   "metadata": {},
   "outputs": [
    {
     "data": {
      "text/html": [
       "<div>\n",
       "<style scoped>\n",
       "    .dataframe tbody tr th:only-of-type {\n",
       "        vertical-align: middle;\n",
       "    }\n",
       "\n",
       "    .dataframe tbody tr th {\n",
       "        vertical-align: top;\n",
       "    }\n",
       "\n",
       "    .dataframe thead th {\n",
       "        text-align: right;\n",
       "    }\n",
       "</style>\n",
       "<table border=\"1\" class=\"dataframe\">\n",
       "  <thead>\n",
       "    <tr style=\"text-align: right;\">\n",
       "      <th></th>\n",
       "      <th>holiday</th>\n",
       "      <th>temp</th>\n",
       "      <th>rain_1h</th>\n",
       "      <th>snow_1h</th>\n",
       "      <th>clouds_all</th>\n",
       "      <th>weather_main</th>\n",
       "      <th>weather_description</th>\n",
       "      <th>date_time</th>\n",
       "      <th>traffic_volume</th>\n",
       "    </tr>\n",
       "  </thead>\n",
       "  <tbody>\n",
       "    <tr>\n",
       "      <th>0</th>\n",
       "      <td>None</td>\n",
       "      <td>288.28</td>\n",
       "      <td>0.0</td>\n",
       "      <td>0.0</td>\n",
       "      <td>40</td>\n",
       "      <td>Clouds</td>\n",
       "      <td>scattered clouds</td>\n",
       "      <td>2012-10-02 09:00:00</td>\n",
       "      <td>5545</td>\n",
       "    </tr>\n",
       "    <tr>\n",
       "      <th>1</th>\n",
       "      <td>None</td>\n",
       "      <td>289.36</td>\n",
       "      <td>0.0</td>\n",
       "      <td>0.0</td>\n",
       "      <td>75</td>\n",
       "      <td>Clouds</td>\n",
       "      <td>broken clouds</td>\n",
       "      <td>2012-10-02 10:00:00</td>\n",
       "      <td>4516</td>\n",
       "    </tr>\n",
       "    <tr>\n",
       "      <th>2</th>\n",
       "      <td>None</td>\n",
       "      <td>289.58</td>\n",
       "      <td>0.0</td>\n",
       "      <td>0.0</td>\n",
       "      <td>90</td>\n",
       "      <td>Clouds</td>\n",
       "      <td>overcast clouds</td>\n",
       "      <td>2012-10-02 11:00:00</td>\n",
       "      <td>4767</td>\n",
       "    </tr>\n",
       "    <tr>\n",
       "      <th>3</th>\n",
       "      <td>None</td>\n",
       "      <td>290.13</td>\n",
       "      <td>0.0</td>\n",
       "      <td>0.0</td>\n",
       "      <td>90</td>\n",
       "      <td>Clouds</td>\n",
       "      <td>overcast clouds</td>\n",
       "      <td>2012-10-02 12:00:00</td>\n",
       "      <td>5026</td>\n",
       "    </tr>\n",
       "    <tr>\n",
       "      <th>4</th>\n",
       "      <td>None</td>\n",
       "      <td>291.14</td>\n",
       "      <td>0.0</td>\n",
       "      <td>0.0</td>\n",
       "      <td>75</td>\n",
       "      <td>Clouds</td>\n",
       "      <td>broken clouds</td>\n",
       "      <td>2012-10-02 13:00:00</td>\n",
       "      <td>4918</td>\n",
       "    </tr>\n",
       "    <tr>\n",
       "      <th>...</th>\n",
       "      <td>...</td>\n",
       "      <td>...</td>\n",
       "      <td>...</td>\n",
       "      <td>...</td>\n",
       "      <td>...</td>\n",
       "      <td>...</td>\n",
       "      <td>...</td>\n",
       "      <td>...</td>\n",
       "      <td>...</td>\n",
       "    </tr>\n",
       "    <tr>\n",
       "      <th>48199</th>\n",
       "      <td>None</td>\n",
       "      <td>283.45</td>\n",
       "      <td>0.0</td>\n",
       "      <td>0.0</td>\n",
       "      <td>75</td>\n",
       "      <td>Clouds</td>\n",
       "      <td>broken clouds</td>\n",
       "      <td>2018-09-30 19:00:00</td>\n",
       "      <td>3543</td>\n",
       "    </tr>\n",
       "    <tr>\n",
       "      <th>48200</th>\n",
       "      <td>None</td>\n",
       "      <td>282.76</td>\n",
       "      <td>0.0</td>\n",
       "      <td>0.0</td>\n",
       "      <td>90</td>\n",
       "      <td>Clouds</td>\n",
       "      <td>overcast clouds</td>\n",
       "      <td>2018-09-30 20:00:00</td>\n",
       "      <td>2781</td>\n",
       "    </tr>\n",
       "    <tr>\n",
       "      <th>48201</th>\n",
       "      <td>None</td>\n",
       "      <td>282.73</td>\n",
       "      <td>0.0</td>\n",
       "      <td>0.0</td>\n",
       "      <td>90</td>\n",
       "      <td>Thunderstorm</td>\n",
       "      <td>proximity thunderstorm</td>\n",
       "      <td>2018-09-30 21:00:00</td>\n",
       "      <td>2159</td>\n",
       "    </tr>\n",
       "    <tr>\n",
       "      <th>48202</th>\n",
       "      <td>None</td>\n",
       "      <td>282.09</td>\n",
       "      <td>0.0</td>\n",
       "      <td>0.0</td>\n",
       "      <td>90</td>\n",
       "      <td>Clouds</td>\n",
       "      <td>overcast clouds</td>\n",
       "      <td>2018-09-30 22:00:00</td>\n",
       "      <td>1450</td>\n",
       "    </tr>\n",
       "    <tr>\n",
       "      <th>48203</th>\n",
       "      <td>None</td>\n",
       "      <td>282.12</td>\n",
       "      <td>0.0</td>\n",
       "      <td>0.0</td>\n",
       "      <td>90</td>\n",
       "      <td>Clouds</td>\n",
       "      <td>overcast clouds</td>\n",
       "      <td>2018-09-30 23:00:00</td>\n",
       "      <td>954</td>\n",
       "    </tr>\n",
       "  </tbody>\n",
       "</table>\n",
       "<p>48204 rows × 9 columns</p>\n",
       "</div>"
      ],
      "text/plain": [
       "      holiday    temp  rain_1h  snow_1h  clouds_all  weather_main  \\\n",
       "0        None  288.28      0.0      0.0          40        Clouds   \n",
       "1        None  289.36      0.0      0.0          75        Clouds   \n",
       "2        None  289.58      0.0      0.0          90        Clouds   \n",
       "3        None  290.13      0.0      0.0          90        Clouds   \n",
       "4        None  291.14      0.0      0.0          75        Clouds   \n",
       "...       ...     ...      ...      ...         ...           ...   \n",
       "48199    None  283.45      0.0      0.0          75        Clouds   \n",
       "48200    None  282.76      0.0      0.0          90        Clouds   \n",
       "48201    None  282.73      0.0      0.0          90  Thunderstorm   \n",
       "48202    None  282.09      0.0      0.0          90        Clouds   \n",
       "48203    None  282.12      0.0      0.0          90        Clouds   \n",
       "\n",
       "          weather_description            date_time  traffic_volume  \n",
       "0            scattered clouds  2012-10-02 09:00:00            5545  \n",
       "1               broken clouds  2012-10-02 10:00:00            4516  \n",
       "2             overcast clouds  2012-10-02 11:00:00            4767  \n",
       "3             overcast clouds  2012-10-02 12:00:00            5026  \n",
       "4               broken clouds  2012-10-02 13:00:00            4918  \n",
       "...                       ...                  ...             ...  \n",
       "48199           broken clouds  2018-09-30 19:00:00            3543  \n",
       "48200         overcast clouds  2018-09-30 20:00:00            2781  \n",
       "48201  proximity thunderstorm  2018-09-30 21:00:00            2159  \n",
       "48202         overcast clouds  2018-09-30 22:00:00            1450  \n",
       "48203         overcast clouds  2018-09-30 23:00:00             954  \n",
       "\n",
       "[48204 rows x 9 columns]"
      ]
     },
     "execution_count": 2,
     "metadata": {},
     "output_type": "execute_result"
    }
   ],
   "source": [
    "traffic = pd.read_csv('data/Metro_Interstate_Traffic_Volume.csv')\n",
    "traffic"
   ]
  },
  {
   "cell_type": "markdown",
   "id": "d862a511-e262-4dba-be5d-0efbfb11fe64",
   "metadata": {},
   "source": [
    "## Introduction\n",
    "Before doing EDA or further data anlysis, it is important to explore and perform data cleaning to check for any irregularities in the dataset and to see if any additional columns are needed. Our original data contains 9 columns and 48,204 rows. Specifically, the explanatory variables are holiday, temperature, amount of rain per hour, amount of snow per hour, coverage of clounds, type of weather, description of weather, and date time. The last column is the response variable traffic_volume."
   ]
  },
  {
   "cell_type": "code",
   "execution_count": 3,
   "id": "9a14244c-a253-4b07-9f2a-780288e57749",
   "metadata": {},
   "outputs": [
    {
     "data": {
      "text/html": [
       "<div>\n",
       "<style scoped>\n",
       "    .dataframe tbody tr th:only-of-type {\n",
       "        vertical-align: middle;\n",
       "    }\n",
       "\n",
       "    .dataframe tbody tr th {\n",
       "        vertical-align: top;\n",
       "    }\n",
       "\n",
       "    .dataframe thead th {\n",
       "        text-align: right;\n",
       "    }\n",
       "</style>\n",
       "<table border=\"1\" class=\"dataframe\">\n",
       "  <thead>\n",
       "    <tr style=\"text-align: right;\">\n",
       "      <th></th>\n",
       "      <th>holiday</th>\n",
       "      <th>temp</th>\n",
       "      <th>rain_1h</th>\n",
       "      <th>snow_1h</th>\n",
       "      <th>clouds_all</th>\n",
       "      <th>weather_main</th>\n",
       "      <th>weather_description</th>\n",
       "      <th>date_time</th>\n",
       "      <th>traffic_volume</th>\n",
       "    </tr>\n",
       "  </thead>\n",
       "  <tbody>\n",
       "    <tr>\n",
       "      <th>0</th>\n",
       "      <td>None</td>\n",
       "      <td>288.28</td>\n",
       "      <td>0.0</td>\n",
       "      <td>0.0</td>\n",
       "      <td>40</td>\n",
       "      <td>Clouds</td>\n",
       "      <td>scattered clouds</td>\n",
       "      <td>2012-10-02 09:00:00</td>\n",
       "      <td>5545</td>\n",
       "    </tr>\n",
       "    <tr>\n",
       "      <th>1</th>\n",
       "      <td>None</td>\n",
       "      <td>289.36</td>\n",
       "      <td>0.0</td>\n",
       "      <td>0.0</td>\n",
       "      <td>75</td>\n",
       "      <td>Clouds</td>\n",
       "      <td>broken clouds</td>\n",
       "      <td>2012-10-02 10:00:00</td>\n",
       "      <td>4516</td>\n",
       "    </tr>\n",
       "    <tr>\n",
       "      <th>2</th>\n",
       "      <td>None</td>\n",
       "      <td>289.58</td>\n",
       "      <td>0.0</td>\n",
       "      <td>0.0</td>\n",
       "      <td>90</td>\n",
       "      <td>Clouds</td>\n",
       "      <td>overcast clouds</td>\n",
       "      <td>2012-10-02 11:00:00</td>\n",
       "      <td>4767</td>\n",
       "    </tr>\n",
       "    <tr>\n",
       "      <th>3</th>\n",
       "      <td>None</td>\n",
       "      <td>290.13</td>\n",
       "      <td>0.0</td>\n",
       "      <td>0.0</td>\n",
       "      <td>90</td>\n",
       "      <td>Clouds</td>\n",
       "      <td>overcast clouds</td>\n",
       "      <td>2012-10-02 12:00:00</td>\n",
       "      <td>5026</td>\n",
       "    </tr>\n",
       "    <tr>\n",
       "      <th>4</th>\n",
       "      <td>None</td>\n",
       "      <td>291.14</td>\n",
       "      <td>0.0</td>\n",
       "      <td>0.0</td>\n",
       "      <td>75</td>\n",
       "      <td>Clouds</td>\n",
       "      <td>broken clouds</td>\n",
       "      <td>2012-10-02 13:00:00</td>\n",
       "      <td>4918</td>\n",
       "    </tr>\n",
       "  </tbody>\n",
       "</table>\n",
       "</div>"
      ],
      "text/plain": [
       "  holiday    temp  rain_1h  snow_1h  clouds_all weather_main  \\\n",
       "0    None  288.28      0.0      0.0          40       Clouds   \n",
       "1    None  289.36      0.0      0.0          75       Clouds   \n",
       "2    None  289.58      0.0      0.0          90       Clouds   \n",
       "3    None  290.13      0.0      0.0          90       Clouds   \n",
       "4    None  291.14      0.0      0.0          75       Clouds   \n",
       "\n",
       "  weather_description            date_time  traffic_volume  \n",
       "0    scattered clouds  2012-10-02 09:00:00            5545  \n",
       "1       broken clouds  2012-10-02 10:00:00            4516  \n",
       "2     overcast clouds  2012-10-02 11:00:00            4767  \n",
       "3     overcast clouds  2012-10-02 12:00:00            5026  \n",
       "4       broken clouds  2012-10-02 13:00:00            4918  "
      ]
     },
     "execution_count": 3,
     "metadata": {},
     "output_type": "execute_result"
    }
   ],
   "source": [
    "traffic.head()"
   ]
  },
  {
   "cell_type": "code",
   "execution_count": 4,
   "id": "0ccfb92e-1e53-4639-9f18-1086daa4c3fe",
   "metadata": {},
   "outputs": [
    {
     "data": {
      "text/plain": [
       "(48204, 9)"
      ]
     },
     "execution_count": 4,
     "metadata": {},
     "output_type": "execute_result"
    }
   ],
   "source": [
    "traffic.shape"
   ]
  },
  {
   "cell_type": "code",
   "execution_count": 5,
   "id": "27f9ab07-109b-4649-83e5-5f3aae77188b",
   "metadata": {},
   "outputs": [
    {
     "data": {
      "text/plain": [
       "holiday                 object\n",
       "temp                   float64\n",
       "rain_1h                float64\n",
       "snow_1h                float64\n",
       "clouds_all               int64\n",
       "weather_main            object\n",
       "weather_description     object\n",
       "date_time               object\n",
       "traffic_volume           int64\n",
       "dtype: object"
      ]
     },
     "execution_count": 5,
     "metadata": {},
     "output_type": "execute_result"
    }
   ],
   "source": [
    "traffic.dtypes"
   ]
  },
  {
   "cell_type": "markdown",
   "id": "63a80835-e252-4338-825e-984d2cb41101",
   "metadata": {},
   "source": [
    "## Data Preprocessing"
   ]
  },
  {
   "cell_type": "markdown",
   "id": "7d1221bf-d262-4a5a-86c6-557937a450ff",
   "metadata": {},
   "source": [
    "Upon observing the original data frame, we think it is helpful to extract new columns froms the `date_time` variable to better aid the analysis process. Thus, the `date`, `month`, and `hour` variables are created because these might be important factors that correlates to the traffic volume change."
   ]
  },
  {
   "cell_type": "code",
   "execution_count": 6,
   "id": "ef3c030c-1fd3-424d-a77f-f66e2b21b9c3",
   "metadata": {},
   "outputs": [],
   "source": [
    "# create new variables\n",
    "traffic['date_time'] = pd.to_datetime(traffic.date_time)\n",
    "traffic['date'] = traffic.date_time.dt.date\n",
    "traffic['hour'] = traffic.date_time.dt.hour\n",
    "traffic['month'] = traffic.date_time.dt.month"
   ]
  },
  {
   "cell_type": "markdown",
   "id": "116c44a6-1aca-4721-8acf-fd6eda1e5b43",
   "metadata": {},
   "source": [
    "Weekday vs weekend affects traffic volume because each day of week may have different patterns. Therefore, categorical variable `weekday` is added to our dataset, another variable `is_weekend` is added with weekdays encoded as False and weekends encoded as True."
   ]
  },
  {
   "cell_type": "code",
   "execution_count": 7,
   "id": "b5b6b846-1586-4d0b-a095-d6a34aa33387",
   "metadata": {},
   "outputs": [],
   "source": [
    "traffic['weekday'] = traffic.date_time.dt.weekday\n",
    "\n",
    "traffic['is_weekend'] = traffic['weekday'].map(utils.encode_weekend)"
   ]
  },
  {
   "cell_type": "markdown",
   "id": "3da6bd70-f2f8-45c3-bd81-b243ce9f1843",
   "metadata": {},
   "source": [
    "We observe that there is one outlier for the `rain_1h`. We drop the irregular observation because it is clearly a mistake. For most observations, the amount of rain is 0 since there is no rain for most of the times. To better train our data, we transform the numerical variable of `rain_1h` to catagorical variables `rain_level` describing the level of rain."
   ]
  },
  {
   "cell_type": "code",
   "execution_count": 8,
   "id": "24e96aef-0d8f-4bb5-8fd8-dbb34e329060",
   "metadata": {},
   "outputs": [
    {
     "name": "stderr",
     "output_type": "stream",
     "text": [
      "/srv/conda/envs/notebook/lib/python3.9/site-packages/seaborn/_decorators.py:36: FutureWarning: Pass the following variable as a keyword arg: x. From version 0.12, the only valid positional argument will be `data`, and passing other arguments without an explicit keyword will result in an error or misinterpretation.\n",
      "  warnings.warn(\n"
     ]
    },
    {
     "data": {
      "text/plain": [
       "<AxesSubplot:xlabel='rain_1h'>"
      ]
     },
     "execution_count": 8,
     "metadata": {},
     "output_type": "execute_result"
    },
    {
     "data": {
      "image/png": "[encoded data removed]",
      "text/plain": [
       "<Figure size 432x288 with 1 Axes>"
      ]
     },
     "metadata": {
      "needs_background": "light"
     },
     "output_type": "display_data"
    }
   ],
   "source": [
    "sns.boxplot('rain_1h', data = traffic)"
   ]
  },
  {
   "cell_type": "code",
   "execution_count": 9,
   "id": "b79cbebb-33c6-45a3-8cc4-092413c1a3a3",
   "metadata": {},
   "outputs": [],
   "source": [
    "traffic = traffic.loc[traffic.rain_1h<8000]"
   ]
  },
  {
   "cell_type": "code",
   "execution_count": 10,
   "id": "9da61caf-4e65-493e-ad00-f13a7fab97ac",
   "metadata": {},
   "outputs": [
    {
     "name": "stderr",
     "output_type": "stream",
     "text": [
      "/tmp/ipykernel_2928/166673156.py:1: SettingWithCopyWarning: \n",
      "A value is trying to be set on a copy of a slice from a DataFrame.\n",
      "Try using .loc[row_indexer,col_indexer] = value instead\n",
      "\n",
      "See the caveats in the documentation: https://pandas.pydata.org/pandas-docs/stable/user_guide/indexing.html#returning-a-view-versus-a-copy\n",
      "  traffic['rain_level'] = traffic['rain_1h'].map(utils.encode_rain_level)\n"
     ]
    }
   ],
   "source": [
    "\n",
    "traffic['rain_level'] = traffic['rain_1h'].map(utils.encode_rain_level)"
   ]
  },
  {
   "cell_type": "markdown",
   "id": "98265b15-d736-4220-804a-82847e97e369",
   "metadata": {},
   "source": [
    "Similary, `snow_1h` is divided into 3 categories as the new column `snow_level`, with no snow, small snow, and big snow. "
   ]
  },
  {
   "cell_type": "code",
   "execution_count": 12,
   "id": "72ce5f95-e175-49a3-a02c-ec5d288a540b",
   "metadata": {},
   "outputs": [
    {
     "name": "stderr",
     "output_type": "stream",
     "text": [
      "/tmp/ipykernel_2928/486970302.py:1: SettingWithCopyWarning: \n",
      "A value is trying to be set on a copy of a slice from a DataFrame.\n",
      "Try using .loc[row_indexer,col_indexer] = value instead\n",
      "\n",
      "See the caveats in the documentation: https://pandas.pydata.org/pandas-docs/stable/user_guide/indexing.html#returning-a-view-versus-a-copy\n",
      "  traffic['snow_level'] = traffic['snow_1h'].map(utils.encode_snow_level)\n"
     ]
    }
   ],
   "source": [
    "traffic['snow_level'] = traffic['snow_1h'].map(utils.encode_snow_level)"
   ]
  },
  {
   "cell_type": "markdown",
   "id": "790d1618-74ad-4067-b13e-956a6bb5095b",
   "metadata": {},
   "source": [
    "The `temperature` variable in the original data uses the unit of kelvin. To better interpret the variable, we transform the unit to celsius. There are also outliers for the temperature which is also clearly mistakes, so we remove them."
   ]
  },
  {
   "cell_type": "code",
   "execution_count": 13,
   "id": "fbe0c854-5eb2-4827-b8f6-bf1a31828cb3",
   "metadata": {},
   "outputs": [
    {
     "name": "stderr",
     "output_type": "stream",
     "text": [
      "/tmp/ipykernel_2928/2526713493.py:1: SettingWithCopyWarning: \n",
      "A value is trying to be set on a copy of a slice from a DataFrame.\n",
      "Try using .loc[row_indexer,col_indexer] = value instead\n",
      "\n",
      "See the caveats in the documentation: https://pandas.pydata.org/pandas-docs/stable/user_guide/indexing.html#returning-a-view-versus-a-copy\n",
      "  traffic['temp'] = traffic['temp'] - 273.15\n"
     ]
    }
   ],
   "source": [
    "traffic['temp'] = traffic['temp'] - 273.15"
   ]
  },
  {
   "cell_type": "code",
   "execution_count": 14,
   "id": "84e9ec03-49f4-461a-a447-463145b85a4c",
   "metadata": {},
   "outputs": [
    {
     "name": "stderr",
     "output_type": "stream",
     "text": [
      "/srv/conda/envs/notebook/lib/python3.9/site-packages/seaborn/_decorators.py:36: FutureWarning: Pass the following variable as a keyword arg: x. From version 0.12, the only valid positional argument will be `data`, and passing other arguments without an explicit keyword will result in an error or misinterpretation.\n",
      "  warnings.warn(\n"
     ]
    },
    {
     "data": {
      "text/plain": [
       "<AxesSubplot:xlabel='temp'>"
      ]
     },
     "execution_count": 14,
     "metadata": {},
     "output_type": "execute_result"
    },
    {
     "data": {
      "image/png": "[encoded data removed]",
      "text/plain": [
       "<Figure size 432x288 with 1 Axes>"
      ]
     },
     "metadata": {
      "needs_background": "light"
     },
     "output_type": "display_data"
    }
   ],
   "source": [
    "sns.boxplot('temp', data = traffic)"
   ]
  },
  {
   "cell_type": "code",
   "execution_count": 15,
   "id": "efb6bf7a-4792-48e5-9e90-98fe782e4fd9",
   "metadata": {},
   "outputs": [],
   "source": [
    "traffic = traffic.loc[traffic.temp >= -50]"
   ]
  },
  {
   "cell_type": "markdown",
   "id": "d8b63085-f8e2-4031-ba6c-1c0535088c5c",
   "metadata": {},
   "source": [
    "For the `holiday` variable, there are many of them, but only holiday vs non-holiday should be useful. Therefore, this column is transformed into True or False."
   ]
  },
  {
   "cell_type": "code",
   "execution_count": 16,
   "id": "d07ab5cc-5e62-4e31-8190-86657418dc2c",
   "metadata": {},
   "outputs": [],
   "source": [
    "traffic['holiday'] = traffic['holiday'].map(utils.encode_holiday)"
   ]
  },
  {
   "cell_type": "markdown",
   "id": "b7840d7b-8356-463f-8efa-0742a616e463",
   "metadata": {},
   "source": [
    "## Finalized Dataset"
   ]
  },
  {
   "cell_type": "markdown",
   "id": "b7663a85-3242-4e7c-9330-0f3da1a0561e",
   "metadata": {},
   "source": [
    "Upon finishing the data preprocessing and cleaning, the final dataset has 48193 rows and 16 columns."
   ]
  },
  {
   "cell_type": "code",
   "execution_count": 17,
   "id": "5b62e5de-1374-45a0-a0de-c615780f30fc",
   "metadata": {},
   "outputs": [
    {
     "data": {
      "text/html": [
       "<div>\n",
       "<style scoped>\n",
       "    .dataframe tbody tr th:only-of-type {\n",
       "        vertical-align: middle;\n",
       "    }\n",
       "\n",
       "    .dataframe tbody tr th {\n",
       "        vertical-align: top;\n",
       "    }\n",
       "\n",
       "    .dataframe thead th {\n",
       "        text-align: right;\n",
       "    }\n",
       "</style>\n",
       "<table border=\"1\" class=\"dataframe\">\n",
       "  <thead>\n",
       "    <tr style=\"text-align: right;\">\n",
       "      <th></th>\n",
       "      <th>holiday</th>\n",
       "      <th>temp</th>\n",
       "      <th>rain_1h</th>\n",
       "      <th>snow_1h</th>\n",
       "      <th>clouds_all</th>\n",
       "      <th>weather_main</th>\n",
       "      <th>weather_description</th>\n",
       "      <th>date_time</th>\n",
       "      <th>traffic_volume</th>\n",
       "      <th>date</th>\n",
       "      <th>hour</th>\n",
       "      <th>month</th>\n",
       "      <th>weekday</th>\n",
       "      <th>is_weekend</th>\n",
       "      <th>rain_level</th>\n",
       "      <th>snow_level</th>\n",
       "    </tr>\n",
       "  </thead>\n",
       "  <tbody>\n",
       "    <tr>\n",
       "      <th>0</th>\n",
       "      <td>False</td>\n",
       "      <td>15.13</td>\n",
       "      <td>0.0</td>\n",
       "      <td>0.0</td>\n",
       "      <td>40</td>\n",
       "      <td>Clouds</td>\n",
       "      <td>scattered clouds</td>\n",
       "      <td>2012-10-02 09:00:00</td>\n",
       "      <td>5545</td>\n",
       "      <td>2012-10-02</td>\n",
       "      <td>9</td>\n",
       "      <td>10</td>\n",
       "      <td>1</td>\n",
       "      <td>False</td>\n",
       "      <td>No rain</td>\n",
       "      <td>No snow</td>\n",
       "    </tr>\n",
       "    <tr>\n",
       "      <th>1</th>\n",
       "      <td>False</td>\n",
       "      <td>16.21</td>\n",
       "      <td>0.0</td>\n",
       "      <td>0.0</td>\n",
       "      <td>75</td>\n",
       "      <td>Clouds</td>\n",
       "      <td>broken clouds</td>\n",
       "      <td>2012-10-02 10:00:00</td>\n",
       "      <td>4516</td>\n",
       "      <td>2012-10-02</td>\n",
       "      <td>10</td>\n",
       "      <td>10</td>\n",
       "      <td>1</td>\n",
       "      <td>False</td>\n",
       "      <td>No rain</td>\n",
       "      <td>No snow</td>\n",
       "    </tr>\n",
       "    <tr>\n",
       "      <th>2</th>\n",
       "      <td>False</td>\n",
       "      <td>16.43</td>\n",
       "      <td>0.0</td>\n",
       "      <td>0.0</td>\n",
       "      <td>90</td>\n",
       "      <td>Clouds</td>\n",
       "      <td>overcast clouds</td>\n",
       "      <td>2012-10-02 11:00:00</td>\n",
       "      <td>4767</td>\n",
       "      <td>2012-10-02</td>\n",
       "      <td>11</td>\n",
       "      <td>10</td>\n",
       "      <td>1</td>\n",
       "      <td>False</td>\n",
       "      <td>No rain</td>\n",
       "      <td>No snow</td>\n",
       "    </tr>\n",
       "    <tr>\n",
       "      <th>3</th>\n",
       "      <td>False</td>\n",
       "      <td>16.98</td>\n",
       "      <td>0.0</td>\n",
       "      <td>0.0</td>\n",
       "      <td>90</td>\n",
       "      <td>Clouds</td>\n",
       "      <td>overcast clouds</td>\n",
       "      <td>2012-10-02 12:00:00</td>\n",
       "      <td>5026</td>\n",
       "      <td>2012-10-02</td>\n",
       "      <td>12</td>\n",
       "      <td>10</td>\n",
       "      <td>1</td>\n",
       "      <td>False</td>\n",
       "      <td>No rain</td>\n",
       "      <td>No snow</td>\n",
       "    </tr>\n",
       "    <tr>\n",
       "      <th>4</th>\n",
       "      <td>False</td>\n",
       "      <td>17.99</td>\n",
       "      <td>0.0</td>\n",
       "      <td>0.0</td>\n",
       "      <td>75</td>\n",
       "      <td>Clouds</td>\n",
       "      <td>broken clouds</td>\n",
       "      <td>2012-10-02 13:00:00</td>\n",
       "      <td>4918</td>\n",
       "      <td>2012-10-02</td>\n",
       "      <td>13</td>\n",
       "      <td>10</td>\n",
       "      <td>1</td>\n",
       "      <td>False</td>\n",
       "      <td>No rain</td>\n",
       "      <td>No snow</td>\n",
       "    </tr>\n",
       "  </tbody>\n",
       "</table>\n",
       "</div>"
      ],
      "text/plain": [
       "   holiday   temp  rain_1h  snow_1h  clouds_all weather_main  \\\n",
       "0    False  15.13      0.0      0.0          40       Clouds   \n",
       "1    False  16.21      0.0      0.0          75       Clouds   \n",
       "2    False  16.43      0.0      0.0          90       Clouds   \n",
       "3    False  16.98      0.0      0.0          90       Clouds   \n",
       "4    False  17.99      0.0      0.0          75       Clouds   \n",
       "\n",
       "  weather_description           date_time  traffic_volume        date  hour  \\\n",
       "0    scattered clouds 2012-10-02 09:00:00            5545  2012-10-02     9   \n",
       "1       broken clouds 2012-10-02 10:00:00            4516  2012-10-02    10   \n",
       "2     overcast clouds 2012-10-02 11:00:00            4767  2012-10-02    11   \n",
       "3     overcast clouds 2012-10-02 12:00:00            5026  2012-10-02    12   \n",
       "4       broken clouds 2012-10-02 13:00:00            4918  2012-10-02    13   \n",
       "\n",
       "   month  weekday  is_weekend rain_level snow_level  \n",
       "0     10        1       False    No rain    No snow  \n",
       "1     10        1       False    No rain    No snow  \n",
       "2     10        1       False    No rain    No snow  \n",
       "3     10        1       False    No rain    No snow  \n",
       "4     10        1       False    No rain    No snow  "
      ]
     },
     "execution_count": 17,
     "metadata": {},
     "output_type": "execute_result"
    }
   ],
   "source": [
    "traffic.head()"
   ]
  },
  {
   "cell_type": "code",
   "execution_count": 18,
   "id": "0d683996-15bf-47d9-b2fe-4ad90421195b",
   "metadata": {},
   "outputs": [
    {
     "data": {
      "text/plain": [
       "(48193, 16)"
      ]
     },
     "execution_count": 18,
     "metadata": {},
     "output_type": "execute_result"
    }
   ],
   "source": [
    "traffic.shape"
   ]
  },
  {
   "cell_type": "markdown",
   "id": "4cc28488-0422-4fce-bb32-c6b91b45eb87",
   "metadata": {},
   "source": [
    "## Explanatory Data Analysis"
   ]
  },
  {
   "cell_type": "markdown",
   "id": "98169ade-af50-4ad2-9e99-dc4b2a34ee7c",
   "metadata": {},
   "source": [
    "Before building any models or perforing any analysis, we need to perform data visualizations to see how the variables relate to each other."
   ]
  },
  {
   "cell_type": "code",
   "execution_count": 19,
   "id": "ee81ec54-c858-4359-81ee-ea4cc351b300",
   "metadata": {},
   "outputs": [
    {
     "data": {
      "image/png": "[encoded data removed]",
      "text/plain": [
       "<Figure size 432x288 with 1 Axes>"
      ]
     },
     "metadata": {
      "needs_background": "light"
     },
     "output_type": "display_data"
    }
   ],
   "source": [
    "plt.hist(traffic.traffic_volume, bins = 30)\n",
    "plt.title('Distribution of traffic volume')\n",
    "plt.ylabel('count')\n",
    "plt.xlabel('traffic volume');"
   ]
  },
  {
   "cell_type": "markdown",
   "id": "92fcb74c-a1fa-43f0-80d9-d47e1ee99dc1",
   "metadata": {},
   "source": [
    "Significant less traffic volume over weekends (5:Saturday, 6:Sunday)"
   ]
  },
  {
   "cell_type": "code",
   "execution_count": 20,
   "id": "caf6f196-0512-46a8-b8cd-9ae82d08f7cc",
   "metadata": {},
   "outputs": [
    {
     "data": {
      "text/plain": [
       "<AxesSubplot:xlabel='weekday', ylabel='traffic_volume'>"
      ]
     },
     "execution_count": 20,
     "metadata": {},
     "output_type": "execute_result"
    },
    {
     "data": {
      "image/png": "[encoded data removed]",
      "text/plain": [
       "<Figure size 432x288 with 1 Axes>"
      ]
     },
     "metadata": {
      "needs_background": "light"
     },
     "output_type": "display_data"
    }
   ],
   "source": [
    "sns.boxplot(y='traffic_volume', x='weekday', data = traffic)"
   ]
  },
  {
   "cell_type": "code",
   "execution_count": 21,
   "id": "8957e799-8dd3-4ea8-a64b-d957df19fd2a",
   "metadata": {},
   "outputs": [
    {
     "data": {
      "text/plain": [
       "<AxesSubplot:xlabel='is_weekend', ylabel='traffic_volume'>"
      ]
     },
     "execution_count": 21,
     "metadata": {},
     "output_type": "execute_result"
    },
    {
     "data": {
      "image/png": "[encoded data removed]",
      "text/plain": [
       "<Figure size 432x288 with 1 Axes>"
      ]
     },
     "metadata": {
      "needs_background": "light"
     },
     "output_type": "display_data"
    }
   ],
   "source": [
    "sns.boxplot(y='traffic_volume', x='is_weekend', data = traffic)"
   ]
  },
  {
   "cell_type": "markdown",
   "id": "1c6b73b5-0efb-45b6-ab26-39316d66806f",
   "metadata": {},
   "source": [
    "Not much difference for traffic volume across different months"
   ]
  },
  {
   "cell_type": "code",
   "execution_count": 22,
   "id": "031dd3bd-1df8-4e30-a433-ae4fe39e595d",
   "metadata": {},
   "outputs": [
    {
     "data": {
      "text/plain": [
       "<AxesSubplot:xlabel='month', ylabel='traffic_volume'>"
      ]
     },
     "execution_count": 22,
     "metadata": {},
     "output_type": "execute_result"
    },
    {
     "data": {
      "image/png": "[encoded data removed]",
      "text/plain": [
       "<Figure size 432x288 with 1 Axes>"
      ]
     },
     "metadata": {
      "needs_background": "light"
     },
     "output_type": "display_data"
    }
   ],
   "source": [
    "sns.boxplot(y='traffic_volume', x='month', data = traffic)"
   ]
  },
  {
   "cell_type": "code",
   "execution_count": 23,
   "id": "c957d451-81a4-4980-9b28-5707466c44c3",
   "metadata": {},
   "outputs": [
    {
     "data": {
      "text/plain": [
       "<AxesSubplot:xlabel='snow_level', ylabel='traffic_volume'>"
      ]
     },
     "execution_count": 23,
     "metadata": {},
     "output_type": "execute_result"
    },
    {
     "data": {
      "image/png": "[encoded data removed]",
      "text/plain": [
       "<Figure size 432x288 with 1 Axes>"
      ]
     },
     "metadata": {
      "needs_background": "light"
     },
     "output_type": "display_data"
    }
   ],
   "source": [
    "sns.boxplot(y='traffic_volume', x='snow_level', data = traffic)"
   ]
  },
  {
   "cell_type": "code",
   "execution_count": 24,
   "id": "8f7ead20-7990-448a-b4c4-bcea9e1288d3",
   "metadata": {},
   "outputs": [
    {
     "data": {
      "text/plain": [
       "<AxesSubplot:xlabel='rain_level', ylabel='traffic_volume'>"
      ]
     },
     "execution_count": 24,
     "metadata": {},
     "output_type": "execute_result"
    },
    {
     "data": {
      "image/png": "[encoded data removed]",
      "text/plain": [
       "<Figure size 432x288 with 1 Axes>"
      ]
     },
     "metadata": {
      "needs_background": "light"
     },
     "output_type": "display_data"
    }
   ],
   "source": [
    "sns.boxplot(y='traffic_volume', x='rain_level', data = traffic)"
   ]
  },
  {
   "cell_type": "markdown",
   "id": "11d7ca03-758b-42c9-bc91-86c54e899b73",
   "metadata": {},
   "source": [
    "### Research Question\n",
    "\n",
    "Does different environmental variables (such as snow, rain, cloud, temperature, holiday, and weekend) impacts the level of traffic overall?"
   ]
  },
  {
   "cell_type": "markdown",
   "id": "229d201c-5f6c-46be-852e-c2ef64e3df40",
   "metadata": {},
   "source": [
    "### Analysis and Interpretation of the Data\n"
   ]
  },
  {
   "cell_type": "code",
   "execution_count": 25,
   "id": "e570c591-908a-4332-b59e-dcb23b2adaee",
   "metadata": {},
   "outputs": [
    {
     "data": {
      "text/html": [
       "<div>\n",
       "<style scoped>\n",
       "    .dataframe tbody tr th:only-of-type {\n",
       "        vertical-align: middle;\n",
       "    }\n",
       "\n",
       "    .dataframe tbody tr th {\n",
       "        vertical-align: top;\n",
       "    }\n",
       "\n",
       "    .dataframe thead th {\n",
       "        text-align: right;\n",
       "    }\n",
       "</style>\n",
       "<table border=\"1\" class=\"dataframe\">\n",
       "  <thead>\n",
       "    <tr style=\"text-align: right;\">\n",
       "      <th></th>\n",
       "      <th>holiday</th>\n",
       "      <th>temp</th>\n",
       "      <th>rain_1h</th>\n",
       "      <th>snow_1h</th>\n",
       "      <th>clouds_all</th>\n",
       "      <th>weather_main</th>\n",
       "      <th>weather_description</th>\n",
       "      <th>date_time</th>\n",
       "      <th>traffic_volume</th>\n",
       "      <th>date</th>\n",
       "      <th>hour</th>\n",
       "      <th>month</th>\n",
       "      <th>weekday</th>\n",
       "      <th>is_weekend</th>\n",
       "      <th>rain_level</th>\n",
       "      <th>snow_level</th>\n",
       "    </tr>\n",
       "  </thead>\n",
       "  <tbody>\n",
       "    <tr>\n",
       "      <th>0</th>\n",
       "      <td>False</td>\n",
       "      <td>15.13</td>\n",
       "      <td>0.0</td>\n",
       "      <td>0.0</td>\n",
       "      <td>40</td>\n",
       "      <td>Clouds</td>\n",
       "      <td>scattered clouds</td>\n",
       "      <td>2012-10-02 09:00:00</td>\n",
       "      <td>5545</td>\n",
       "      <td>2012-10-02</td>\n",
       "      <td>9</td>\n",
       "      <td>10</td>\n",
       "      <td>1</td>\n",
       "      <td>False</td>\n",
       "      <td>No rain</td>\n",
       "      <td>No snow</td>\n",
       "    </tr>\n",
       "    <tr>\n",
       "      <th>1</th>\n",
       "      <td>False</td>\n",
       "      <td>16.21</td>\n",
       "      <td>0.0</td>\n",
       "      <td>0.0</td>\n",
       "      <td>75</td>\n",
       "      <td>Clouds</td>\n",
       "      <td>broken clouds</td>\n",
       "      <td>2012-10-02 10:00:00</td>\n",
       "      <td>4516</td>\n",
       "      <td>2012-10-02</td>\n",
       "      <td>10</td>\n",
       "      <td>10</td>\n",
       "      <td>1</td>\n",
       "      <td>False</td>\n",
       "      <td>No rain</td>\n",
       "      <td>No snow</td>\n",
       "    </tr>\n",
       "    <tr>\n",
       "      <th>2</th>\n",
       "      <td>False</td>\n",
       "      <td>16.43</td>\n",
       "      <td>0.0</td>\n",
       "      <td>0.0</td>\n",
       "      <td>90</td>\n",
       "      <td>Clouds</td>\n",
       "      <td>overcast clouds</td>\n",
       "      <td>2012-10-02 11:00:00</td>\n",
       "      <td>4767</td>\n",
       "      <td>2012-10-02</td>\n",
       "      <td>11</td>\n",
       "      <td>10</td>\n",
       "      <td>1</td>\n",
       "      <td>False</td>\n",
       "      <td>No rain</td>\n",
       "      <td>No snow</td>\n",
       "    </tr>\n",
       "    <tr>\n",
       "      <th>3</th>\n",
       "      <td>False</td>\n",
       "      <td>16.98</td>\n",
       "      <td>0.0</td>\n",
       "      <td>0.0</td>\n",
       "      <td>90</td>\n",
       "      <td>Clouds</td>\n",
       "      <td>overcast clouds</td>\n",
       "      <td>2012-10-02 12:00:00</td>\n",
       "      <td>5026</td>\n",
       "      <td>2012-10-02</td>\n",
       "      <td>12</td>\n",
       "      <td>10</td>\n",
       "      <td>1</td>\n",
       "      <td>False</td>\n",
       "      <td>No rain</td>\n",
       "      <td>No snow</td>\n",
       "    </tr>\n",
       "    <tr>\n",
       "      <th>4</th>\n",
       "      <td>False</td>\n",
       "      <td>17.99</td>\n",
       "      <td>0.0</td>\n",
       "      <td>0.0</td>\n",
       "      <td>75</td>\n",
       "      <td>Clouds</td>\n",
       "      <td>broken clouds</td>\n",
       "      <td>2012-10-02 13:00:00</td>\n",
       "      <td>4918</td>\n",
       "      <td>2012-10-02</td>\n",
       "      <td>13</td>\n",
       "      <td>10</td>\n",
       "      <td>1</td>\n",
       "      <td>False</td>\n",
       "      <td>No rain</td>\n",
       "      <td>No snow</td>\n",
       "    </tr>\n",
       "    <tr>\n",
       "      <th>...</th>\n",
       "      <td>...</td>\n",
       "      <td>...</td>\n",
       "      <td>...</td>\n",
       "      <td>...</td>\n",
       "      <td>...</td>\n",
       "      <td>...</td>\n",
       "      <td>...</td>\n",
       "      <td>...</td>\n",
       "      <td>...</td>\n",
       "      <td>...</td>\n",
       "      <td>...</td>\n",
       "      <td>...</td>\n",
       "      <td>...</td>\n",
       "      <td>...</td>\n",
       "      <td>...</td>\n",
       "      <td>...</td>\n",
       "    </tr>\n",
       "    <tr>\n",
       "      <th>48199</th>\n",
       "      <td>False</td>\n",
       "      <td>10.30</td>\n",
       "      <td>0.0</td>\n",
       "      <td>0.0</td>\n",
       "      <td>75</td>\n",
       "      <td>Clouds</td>\n",
       "      <td>broken clouds</td>\n",
       "      <td>2018-09-30 19:00:00</td>\n",
       "      <td>3543</td>\n",
       "      <td>2018-09-30</td>\n",
       "      <td>19</td>\n",
       "      <td>9</td>\n",
       "      <td>6</td>\n",
       "      <td>True</td>\n",
       "      <td>No rain</td>\n",
       "      <td>No snow</td>\n",
       "    </tr>\n",
       "    <tr>\n",
       "      <th>48200</th>\n",
       "      <td>False</td>\n",
       "      <td>9.61</td>\n",
       "      <td>0.0</td>\n",
       "      <td>0.0</td>\n",
       "      <td>90</td>\n",
       "      <td>Clouds</td>\n",
       "      <td>overcast clouds</td>\n",
       "      <td>2018-09-30 20:00:00</td>\n",
       "      <td>2781</td>\n",
       "      <td>2018-09-30</td>\n",
       "      <td>20</td>\n",
       "      <td>9</td>\n",
       "      <td>6</td>\n",
       "      <td>True</td>\n",
       "      <td>No rain</td>\n",
       "      <td>No snow</td>\n",
       "    </tr>\n",
       "    <tr>\n",
       "      <th>48201</th>\n",
       "      <td>False</td>\n",
       "      <td>9.58</td>\n",
       "      <td>0.0</td>\n",
       "      <td>0.0</td>\n",
       "      <td>90</td>\n",
       "      <td>Thunderstorm</td>\n",
       "      <td>proximity thunderstorm</td>\n",
       "      <td>2018-09-30 21:00:00</td>\n",
       "      <td>2159</td>\n",
       "      <td>2018-09-30</td>\n",
       "      <td>21</td>\n",
       "      <td>9</td>\n",
       "      <td>6</td>\n",
       "      <td>True</td>\n",
       "      <td>No rain</td>\n",
       "      <td>No snow</td>\n",
       "    </tr>\n",
       "    <tr>\n",
       "      <th>48202</th>\n",
       "      <td>False</td>\n",
       "      <td>8.94</td>\n",
       "      <td>0.0</td>\n",
       "      <td>0.0</td>\n",
       "      <td>90</td>\n",
       "      <td>Clouds</td>\n",
       "      <td>overcast clouds</td>\n",
       "      <td>2018-09-30 22:00:00</td>\n",
       "      <td>1450</td>\n",
       "      <td>2018-09-30</td>\n",
       "      <td>22</td>\n",
       "      <td>9</td>\n",
       "      <td>6</td>\n",
       "      <td>True</td>\n",
       "      <td>No rain</td>\n",
       "      <td>No snow</td>\n",
       "    </tr>\n",
       "    <tr>\n",
       "      <th>48203</th>\n",
       "      <td>False</td>\n",
       "      <td>8.97</td>\n",
       "      <td>0.0</td>\n",
       "      <td>0.0</td>\n",
       "      <td>90</td>\n",
       "      <td>Clouds</td>\n",
       "      <td>overcast clouds</td>\n",
       "      <td>2018-09-30 23:00:00</td>\n",
       "      <td>954</td>\n",
       "      <td>2018-09-30</td>\n",
       "      <td>23</td>\n",
       "      <td>9</td>\n",
       "      <td>6</td>\n",
       "      <td>True</td>\n",
       "      <td>No rain</td>\n",
       "      <td>No snow</td>\n",
       "    </tr>\n",
       "  </tbody>\n",
       "</table>\n",
       "<p>48193 rows × 16 columns</p>\n",
       "</div>"
      ],
      "text/plain": [
       "       holiday   temp  rain_1h  snow_1h  clouds_all  weather_main  \\\n",
       "0        False  15.13      0.0      0.0          40        Clouds   \n",
       "1        False  16.21      0.0      0.0          75        Clouds   \n",
       "2        False  16.43      0.0      0.0          90        Clouds   \n",
       "3        False  16.98      0.0      0.0          90        Clouds   \n",
       "4        False  17.99      0.0      0.0          75        Clouds   \n",
       "...        ...    ...      ...      ...         ...           ...   \n",
       "48199    False  10.30      0.0      0.0          75        Clouds   \n",
       "48200    False   9.61      0.0      0.0          90        Clouds   \n",
       "48201    False   9.58      0.0      0.0          90  Thunderstorm   \n",
       "48202    False   8.94      0.0      0.0          90        Clouds   \n",
       "48203    False   8.97      0.0      0.0          90        Clouds   \n",
       "\n",
       "          weather_description           date_time  traffic_volume        date  \\\n",
       "0            scattered clouds 2012-10-02 09:00:00            5545  2012-10-02   \n",
       "1               broken clouds 2012-10-02 10:00:00            4516  2012-10-02   \n",
       "2             overcast clouds 2012-10-02 11:00:00            4767  2012-10-02   \n",
       "3             overcast clouds 2012-10-02 12:00:00            5026  2012-10-02   \n",
       "4               broken clouds 2012-10-02 13:00:00            4918  2012-10-02   \n",
       "...                       ...                 ...             ...         ...   \n",
       "48199           broken clouds 2018-09-30 19:00:00            3543  2018-09-30   \n",
       "48200         overcast clouds 2018-09-30 20:00:00            2781  2018-09-30   \n",
       "48201  proximity thunderstorm 2018-09-30 21:00:00            2159  2018-09-30   \n",
       "48202         overcast clouds 2018-09-30 22:00:00            1450  2018-09-30   \n",
       "48203         overcast clouds 2018-09-30 23:00:00             954  2018-09-30   \n",
       "\n",
       "       hour  month  weekday  is_weekend rain_level snow_level  \n",
       "0         9     10        1       False    No rain    No snow  \n",
       "1        10     10        1       False    No rain    No snow  \n",
       "2        11     10        1       False    No rain    No snow  \n",
       "3        12     10        1       False    No rain    No snow  \n",
       "4        13     10        1       False    No rain    No snow  \n",
       "...     ...    ...      ...         ...        ...        ...  \n",
       "48199    19      9        6        True    No rain    No snow  \n",
       "48200    20      9        6        True    No rain    No snow  \n",
       "48201    21      9        6        True    No rain    No snow  \n",
       "48202    22      9        6        True    No rain    No snow  \n",
       "48203    23      9        6        True    No rain    No snow  \n",
       "\n",
       "[48193 rows x 16 columns]"
      ]
     },
     "execution_count": 25,
     "metadata": {},
     "output_type": "execute_result"
    }
   ],
   "source": [
    "traffic"
   ]
  },
  {
   "cell_type": "markdown",
   "id": "86fd1b04-7eef-4316-910a-845c86fe7cc5",
   "metadata": {},
   "source": [
    "### Farther EDA"
   ]
  },
  {
   "cell_type": "code",
   "execution_count": 26,
   "id": "d0159edd-54e6-4dc5-9bff-9243b3057932",
   "metadata": {},
   "outputs": [
    {
     "data": {
      "text/html": [
       "<div>\n",
       "<style scoped>\n",
       "    .dataframe tbody tr th:only-of-type {\n",
       "        vertical-align: middle;\n",
       "    }\n",
       "\n",
       "    .dataframe tbody tr th {\n",
       "        vertical-align: top;\n",
       "    }\n",
       "\n",
       "    .dataframe thead th {\n",
       "        text-align: right;\n",
       "    }\n",
       "</style>\n",
       "<table border=\"1\" class=\"dataframe\">\n",
       "  <thead>\n",
       "    <tr style=\"text-align: right;\">\n",
       "      <th></th>\n",
       "      <th>Holiday</th>\n",
       "      <th>Temperature (C)</th>\n",
       "      <th>Rain Level</th>\n",
       "      <th>Snow Level</th>\n",
       "      <th>Cloud Level</th>\n",
       "      <th>Traffic Volume</th>\n",
       "      <th>Weekend</th>\n",
       "    </tr>\n",
       "  </thead>\n",
       "  <tbody>\n",
       "    <tr>\n",
       "      <th>0</th>\n",
       "      <td>0</td>\n",
       "      <td>15.13</td>\n",
       "      <td>0.0</td>\n",
       "      <td>0.0</td>\n",
       "      <td>40</td>\n",
       "      <td>5545</td>\n",
       "      <td>0</td>\n",
       "    </tr>\n",
       "    <tr>\n",
       "      <th>1</th>\n",
       "      <td>0</td>\n",
       "      <td>16.21</td>\n",
       "      <td>0.0</td>\n",
       "      <td>0.0</td>\n",
       "      <td>75</td>\n",
       "      <td>4516</td>\n",
       "      <td>0</td>\n",
       "    </tr>\n",
       "    <tr>\n",
       "      <th>2</th>\n",
       "      <td>0</td>\n",
       "      <td>16.43</td>\n",
       "      <td>0.0</td>\n",
       "      <td>0.0</td>\n",
       "      <td>90</td>\n",
       "      <td>4767</td>\n",
       "      <td>0</td>\n",
       "    </tr>\n",
       "    <tr>\n",
       "      <th>3</th>\n",
       "      <td>0</td>\n",
       "      <td>16.98</td>\n",
       "      <td>0.0</td>\n",
       "      <td>0.0</td>\n",
       "      <td>90</td>\n",
       "      <td>5026</td>\n",
       "      <td>0</td>\n",
       "    </tr>\n",
       "    <tr>\n",
       "      <th>4</th>\n",
       "      <td>0</td>\n",
       "      <td>17.99</td>\n",
       "      <td>0.0</td>\n",
       "      <td>0.0</td>\n",
       "      <td>75</td>\n",
       "      <td>4918</td>\n",
       "      <td>0</td>\n",
       "    </tr>\n",
       "    <tr>\n",
       "      <th>...</th>\n",
       "      <td>...</td>\n",
       "      <td>...</td>\n",
       "      <td>...</td>\n",
       "      <td>...</td>\n",
       "      <td>...</td>\n",
       "      <td>...</td>\n",
       "      <td>...</td>\n",
       "    </tr>\n",
       "    <tr>\n",
       "      <th>48199</th>\n",
       "      <td>0</td>\n",
       "      <td>10.30</td>\n",
       "      <td>0.0</td>\n",
       "      <td>0.0</td>\n",
       "      <td>75</td>\n",
       "      <td>3543</td>\n",
       "      <td>1</td>\n",
       "    </tr>\n",
       "    <tr>\n",
       "      <th>48200</th>\n",
       "      <td>0</td>\n",
       "      <td>9.61</td>\n",
       "      <td>0.0</td>\n",
       "      <td>0.0</td>\n",
       "      <td>90</td>\n",
       "      <td>2781</td>\n",
       "      <td>1</td>\n",
       "    </tr>\n",
       "    <tr>\n",
       "      <th>48201</th>\n",
       "      <td>0</td>\n",
       "      <td>9.58</td>\n",
       "      <td>0.0</td>\n",
       "      <td>0.0</td>\n",
       "      <td>90</td>\n",
       "      <td>2159</td>\n",
       "      <td>1</td>\n",
       "    </tr>\n",
       "    <tr>\n",
       "      <th>48202</th>\n",
       "      <td>0</td>\n",
       "      <td>8.94</td>\n",
       "      <td>0.0</td>\n",
       "      <td>0.0</td>\n",
       "      <td>90</td>\n",
       "      <td>1450</td>\n",
       "      <td>1</td>\n",
       "    </tr>\n",
       "    <tr>\n",
       "      <th>48203</th>\n",
       "      <td>0</td>\n",
       "      <td>8.97</td>\n",
       "      <td>0.0</td>\n",
       "      <td>0.0</td>\n",
       "      <td>90</td>\n",
       "      <td>954</td>\n",
       "      <td>1</td>\n",
       "    </tr>\n",
       "  </tbody>\n",
       "</table>\n",
       "<p>48193 rows × 7 columns</p>\n",
       "</div>"
      ],
      "text/plain": [
       "       Holiday  Temperature (C)  Rain Level  Snow Level  Cloud Level  \\\n",
       "0            0            15.13         0.0         0.0           40   \n",
       "1            0            16.21         0.0         0.0           75   \n",
       "2            0            16.43         0.0         0.0           90   \n",
       "3            0            16.98         0.0         0.0           90   \n",
       "4            0            17.99         0.0         0.0           75   \n",
       "...        ...              ...         ...         ...          ...   \n",
       "48199        0            10.30         0.0         0.0           75   \n",
       "48200        0             9.61         0.0         0.0           90   \n",
       "48201        0             9.58         0.0         0.0           90   \n",
       "48202        0             8.94         0.0         0.0           90   \n",
       "48203        0             8.97         0.0         0.0           90   \n",
       "\n",
       "       Traffic Volume  Weekend  \n",
       "0                5545        0  \n",
       "1                4516        0  \n",
       "2                4767        0  \n",
       "3                5026        0  \n",
       "4                4918        0  \n",
       "...               ...      ...  \n",
       "48199            3543        1  \n",
       "48200            2781        1  \n",
       "48201            2159        1  \n",
       "48202            1450        1  \n",
       "48203             954        1  \n",
       "\n",
       "[48193 rows x 7 columns]"
      ]
     },
     "execution_count": 26,
     "metadata": {},
     "output_type": "execute_result"
    }
   ],
   "source": [
    "ols_traffic_model = traffic.copy()\n",
    "ols_traffic_model['holiday'] = [0 if i == False else 1 for i in traffic['holiday']]\n",
    "ols_traffic_model.drop(['weather_main', 'weather_description', 'date_time', 'date', 'weekday', 'rain_level', 'snow_level', 'month', 'hour'], axis=1, inplace=True)\n",
    "ols_traffic_model['is_weekend'] = [0 if i == False else 1 for i in traffic['is_weekend']]\n",
    "ols_traffic_model.columns = ['Holiday', 'Temperature (C)', 'Rain Level', 'Snow Level', 'Cloud Level', 'Traffic Volume', 'Weekend']\n",
    "\n",
    "ols_traffic_model\n"
   ]
  },
  {
   "cell_type": "markdown",
   "id": "290922a5-d491-4a5b-b2f0-a94ccc939d16",
   "metadata": {},
   "source": [
    "### Difference-in-Difference Using Fit_OLS_Model"
   ]
  },
  {
   "cell_type": "code",
   "execution_count": 27,
   "id": "b4f765c5-bb69-4796-a8e9-15997a4307be",
   "metadata": {},
   "outputs": [],
   "source": [
    "def fit_OLS_model(df, target_variable, explanatory_variables, intercept = False):\n",
    "    \"\"\"\n",
    "    Fits an OLS model from data.\n",
    "    \n",
    "    Inputs:\n",
    "        df: pandas DataFrame\n",
    "        target_variable: string, name of the target variable\n",
    "        explanatory_variables: list of strings, names of the explanatory variables\n",
    "        intercept: bool, if True add intercept term\n",
    "    Outputs:\n",
    "        fitted_model: model containing OLS regression results\n",
    "    \"\"\"\n",
    "    \n",
    "    target = df[target_variable]\n",
    "    inputs = df[explanatory_variables]\n",
    "    if intercept:\n",
    "        inputs = sm.add_constant(inputs)\n",
    "    \n",
    "    fitted_model = sm.OLS(target, inputs).fit()\n",
    "    return(fitted_model)"
   ]
  },
  {
   "cell_type": "code",
   "execution_count": 28,
   "id": "c67d7c6d-a980-4600-9963-197c197d4c77",
   "metadata": {},
   "outputs": [
    {
     "name": "stdout",
     "output_type": "stream",
     "text": [
      "                            OLS Regression Results                            \n",
      "==============================================================================\n",
      "Dep. Variable:         Traffic Volume   R-squared:                       0.075\n",
      "Model:                            OLS   Adj. R-squared:                  0.075\n",
      "Method:                 Least Squares   F-statistic:                     649.3\n",
      "Date:                Wed, 11 May 2022   Prob (F-statistic):               0.00\n",
      "Time:                        02:39:17   Log-Likelihood:            -4.3250e+05\n",
      "No. Observations:               48193   AIC:                         8.650e+05\n",
      "Df Residuals:                   48186   BIC:                         8.651e+05\n",
      "Df Model:                           6                                         \n",
      "Covariance Type:            nonrobust                                         \n",
      "===================================================================================\n",
      "                      coef    std err          t      P>|t|      [0.025      0.975]\n",
      "-----------------------------------------------------------------------------------\n",
      "const            3162.6425     16.699    189.391      0.000    3129.912    3195.373\n",
      "Holiday         -2583.8840    244.926    -10.550      0.000   -3063.941   -2103.826\n",
      "Temperature (C)    22.6280      0.693     32.652      0.000      21.270      23.986\n",
      "Rain Level        -82.4377      8.748     -9.423      0.000     -99.585     -65.291\n",
      "Snow Level       -434.7098   1066.451     -0.408      0.684   -2524.968    1655.548\n",
      "Cloud Level         4.0477      0.226     17.931      0.000       3.605       4.490\n",
      "Weekend          -956.3202     19.318    -49.504      0.000    -994.184    -918.457\n",
      "==============================================================================\n",
      "Omnibus:                    30243.166   Durbin-Watson:                   0.195\n",
      "Prob(Omnibus):                  0.000   Jarque-Bera (JB):             3113.451\n",
      "Skew:                          -0.229   Prob(JB):                         0.00\n",
      "Kurtosis:                       1.842   Cond. No.                     7.74e+03\n",
      "==============================================================================\n",
      "\n",
      "Notes:\n",
      "[1] Standard Errors assume that the covariance matrix of the errors is correctly specified.\n",
      "[2] The condition number is large, 7.74e+03. This might indicate that there are\n",
      "strong multicollinearity or other numerical problems.\n"
     ]
    }
   ],
   "source": [
    "linear_model = fit_OLS_model(ols_traffic_model, 'Traffic Volume', ['Holiday', 'Temperature (C)', 'Rain Level', 'Snow Level', 'Cloud Level', 'Weekend'], intercept=True)\n",
    "print(linear_model.summary())"
   ]
  },
  {
   "cell_type": "markdown",
   "id": "6c56c99a-b564-4209-849f-53e0e4658433",
   "metadata": {},
   "source": [
    "### Analysis and Interpretation of the Model\n",
    "\n",
    "According to our Fit OLS Regression Model that we have built based on our variables, we tried to find a correlation between the level of Traffic and different variables that may influence the level of traffic. According to the summary of our model, we were able to find that there is overall positive correlation between the level of traffic and different environmental variables (snow, cloud, rain, temperature, holiday, weekend) in combined. For some of the unexpected discoveries we had, the most unexpected finding wasthe statistic significance on the snow level. Initially, we assumed that high level of snow would decrease the amount of traffic, but the result we discovered was very different from our expectation. The p-value for this factor came out to be 0.684, which was higher than 0.05. This also signifies that the snow does not have strong correlation on traffic level. For other coefficients on our variables, they were reasonably expected at the beginning of our hypothesis test as we expected that higher rain and snow would decrease the level of traffic. We expected a negative correlation because due to the danger of driving under restraint atmospheric conditions from snow and rain (which could hinder vision and increase chance of accident by less surface friction on the road), we expected less people to drive on those days. Similarly, we expected negative correlation between the traffic level and other variables, such as weekend and holiday, as less people would be driving to commute to work or they would more likely to stay at home. Other surprising foundings we had were correlation between cloud level/Temperature and traffic level as the coefficients were positive, but exceptionally smaller compared to other variables that had positive coefficients. This demonstrates that there are some possitive correlation between these factors, but weaker correlation compared to holiday, rain, snow, and weekend variables. "
   ]
  },
  {
   "cell_type": "markdown",
   "id": "bfb2d98a-151e-4126-9c02-c3fa732c3c0c",
   "metadata": {},
   "source": [
    "### Conclusion\n",
    "\n",
    "Given the interpretation between overall environmental factors and the traffic level, we are confident to say there are overall positive correlation between the combined environmental factors on the level of traffic overall, which can be found from the positive constant coefficient. There were some unexpected discoveries made  on the relationship between the level of traffic and snowiness of the weather, we found strongest correlation between the holiday variable and our target variable (Level of Traffic). Overall, the p-values for most of our variables were statistically significant, except the level of snow, ultimately supporting our hypothesis. "
   ]
  },
  {
   "cell_type": "code",
   "execution_count": null,
   "id": "4fe45bb7-12be-43bb-bb11-73f7508304d5",
   "metadata": {},
   "outputs": [],
   "source": []
  }
 ],
 "metadata": {
  "kernelspec": {
   "display_name": "Python 3 (ipykernel)",
   "language": "python",
   "name": "python3"
  },
  "language_info": {
   "codemirror_mode": {
    "name": "ipython",
    "version": 3
   },
   "file_extension": ".py",
   "mimetype": "text/x-python",
   "name": "python",
   "nbconvert_exporter": "python",
   "pygments_lexer": "ipython3",
   "version": "3.9.9"
  }
 },
 "nbformat": 4,
 "nbformat_minor": 5
}
